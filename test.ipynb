{
 "cells": [
  {
   "cell_type": "code",
   "execution_count": 1,
   "metadata": {},
   "outputs": [
    {
     "data": {
      "image/png": "[encoded data removed]",
      "text/plain": [
       "<Figure size 640x480 with 2 Axes>"
      ]
     },
     "metadata": {},
     "output_type": "display_data"
    }
   ],
   "source": [
    "import numpy as np\n",
    "import matplotlib.pyplot as plt\n",
    "\n",
    "matrix = np.zeros((18, 18))\n",
    "\n",
    "\n",
    "np.fill_diagonal(matrix, 1)\n",
    "for i in range(18):\n",
    "  matrix[i, :i] = 1\n",
    "\n",
    "# Display the matrix\n",
    "plt.imshow(matrix, cmap='binary', interpolation='nearest')\n",
    "plt.colorbar()\n",
    "plt.show()"
   ]
  },
  {
   "cell_type": "code",
   "execution_count": 7,
   "metadata": {},
   "outputs": [
    {
     "name": "stdout",
     "output_type": "stream",
     "text": [
      "102 [CLS]\n",
      "12402 Mehrere\n",
      "2856 Männer\n",
      "212 mit\n",
      "2708 Schutz\n",
      "3585 ##helm\n",
      "106 ##en\n",
      "19247 bedienen\n",
      "143 ein\n",
      "12384 Antrieb\n",
      "10450 ##sr\n",
      "5127 ##ads\n",
      "932 ##ystem\n",
      "566 .\n",
      "103 [SEP]\n",
      "0 [PAD]\n"
     ]
    }
   ],
   "source": [
    "from transformers import AutoTokenizer\n",
    "tokenizer = AutoTokenizer.from_pretrained(\"dbmdz/bert-base-german-cased\")\n",
    "\n",
    "ls = [102, 12402, 2856, 212, 2708, 3585, 106, 19247, 143, 12384, 10450, 5127, 932, 566, 103, 0]\n",
    "for ele in ls:\n",
    "    print(ele, tokenizer.convert_ids_to_tokens(ele))"
   ]
  },
  {
   "cell_type": "code",
   "execution_count": 8,
   "metadata": {},
   "outputs": [
    {
     "name": "stdout",
     "output_type": "stream",
     "text": [
      "101 [CLS]\n",
      "2195 several\n",
      "2273 men\n",
      "1999 in\n",
      "2524 hard\n",
      "16717 hats\n",
      "2024 are\n",
      "4082 operating\n",
      "1037 a\n",
      "5016 giant\n",
      "4139 pull\n",
      "3240 ##ey\n",
      "2291 system\n",
      "1012 .\n"
     ]
    }
   ],
   "source": [
    "from transformers import AutoTokenizer\n",
    "tokenizer = AutoTokenizer.from_pretrained(\"bert-base-uncased\")\n",
    "\n",
    "ls = [101, 2195, 2273, 1999, 2524, 16717, 2024, 4082, 1037, 5016, 4139, 3240, 2291, 1012]\n",
    "for ele in ls:\n",
    "    print(ele, tokenizer.convert_ids_to_tokens(ele))"
   ]
  },
  {
   "cell_type": "code",
   "execution_count": 1,
   "metadata": {},
   "outputs": [],
   "source": [
    "import cv2\n",
    "import numpy as np\n",
    "import torch\n",
    "\n",
    "class TSPImageDataset(torch.utils.data.Dataset):\n",
    "  def __init__(self, data_file, img_size, point_radius=2, point_color=1, line_thickness=2, line_color=0.5, max_points=100):\n",
    "    self.data_file = data_file\n",
    "    self.img_size = img_size\n",
    "    self.point_radius = point_radius\n",
    "    self.point_color = point_color\n",
    "    self.line_thickness = line_thickness\n",
    "    self.line_color = line_color\n",
    "    self.max_points = max_points\n",
    "\n",
    "    self.file_lines = open(data_file).read().splitlines()\n",
    "    print(f'Loaded \"{data_file}\" with {len(self.file_lines)} lines')\n",
    "\n",
    "  def __len__(self):\n",
    "    return len(self.file_lines)\n",
    "\n",
    "  def get_reordered_tsp_instance(self, points, tour):\n",
    "    point2before_idx = {}\n",
    "    for idx, point in enumerate(points):\n",
    "        point2before_idx[tuple(point)] = idx + 1\n",
    "\n",
    "    center_of_mass = np.mean(points, axis=0)\n",
    "    coordinates = np.array(points)\n",
    "    centered_coordinates = coordinates - center_of_mass\n",
    "    angles = np.arctan2(centered_coordinates[:, 1], centered_coordinates[:, 0])\n",
    "    scaled_angles = (angles + 2 * np.pi) % (2 * np.pi)\n",
    "    # print(scaled_angles)\n",
    "    distances = np.sqrt(centered_coordinates[:, 0] ** 2 + centered_coordinates[:, 1] ** 2)\n",
    "    reordered_points = coordinates[np.lexsort((distances, scaled_angles))] # 증가하는 순서대로\n",
    "    # print(scaled_angles[np.lexsort((distances, scaled_angles))])\n",
    "    \n",
    "    before_idx2after_idx = {}\n",
    "    for idx, point in enumerate(reordered_points):\n",
    "        before_idx = point2before_idx[tuple(point)]\n",
    "        before_idx2after_idx[before_idx] = idx + 1\n",
    "    \n",
    "    after_tour = []\n",
    "    for before_idx in tour:\n",
    "        after_idx = before_idx2after_idx[before_idx]\n",
    "        after_tour.append(after_idx)\n",
    "        \n",
    "    after_tour = np.array(after_tour[:-1])\n",
    "    one_index = np.where(after_tour == 1)[0][0]\n",
    "    one_before = after_tour[(one_index - 1 + len(after_tour)) % len(after_tour)]\n",
    "    one_after = after_tour[(one_index + 1 + len(after_tour)) % len(after_tour)]\n",
    "\n",
    "    if one_after < one_before:\n",
    "        reordered_tour = np.roll(after_tour, -one_index)\n",
    "    else:\n",
    "        reordered_tour = np.roll(after_tour, len(after_tour) - one_index - 1)[::-1]\n",
    "    \n",
    "    reordered_tour = np.append(reordered_tour, 1)\n",
    "        \n",
    "    return reordered_points, reordered_tour, center_of_mass\n",
    "\n",
    "  def rasterize(self, idx):\n",
    "    # Select sample\n",
    "    line = self.file_lines[idx]\n",
    "    # Clear leading/trailing characters\n",
    "    print(line)\n",
    "    line = line.strip()\n",
    "\n",
    "    # Extract points\n",
    "    points = line.split(' output ')[0]\n",
    "    points = points.split(' ')\n",
    "    points = np.array([[float(points[i]), float(points[i + 1])] for i in range(0, len(points), 2)])\n",
    "    # Extract tour\n",
    "    tour = line.split(' output ')[1]\n",
    "    tour = tour.split(' ')\n",
    "    tour = np.array([int(t) for t in tour])\n",
    "    \n",
    "    # Rasterize lines\n",
    "    img = np.zeros((self.img_size, self.img_size))\n",
    "    \n",
    "    points, tour, center_of_mass = self.get_reordered_tsp_instance(points, tour) # reorder points, tour\n",
    "    cv2.circle(img, ((self.img_size - 1) * center_of_mass).astype(int), radius=self.point_radius, color=self.point_color, thickness=-1)\n",
    "    \n",
    "    for i in range(tour.shape[0] - 1):\n",
    "      from_idx = tour[i] - 1\n",
    "      to_idx = tour[i + 1] - 1\n",
    "\n",
    "      cv2.line(img,\n",
    "               ((self.img_size - 1) * points[from_idx, ::-1]).astype(int),\n",
    "               ((self.img_size - 1) * points[to_idx, ::-1]).astype(int),\n",
    "               color=self.line_color, thickness=self.line_thickness)\n",
    "\n",
    "    for i in range(len(tour)):\n",
    "      point = ((self.img_size - 1) * points[tour[i] - 1, ::-1]).astype(int)\n",
    "      cv2.circle(img, point, radius=self.point_radius, color=self.point_color, thickness=-1)\n",
    "      text_position = (point[0] - 10, point[1] - 10)\n",
    "      cv2.putText(img, str(tour[i]), text_position, cv2.FONT_HERSHEY_SIMPLEX, 0.8, (255, 255, 255), 1, cv2.LINE_AA)  \n",
    "\n",
    "    # Rescale image to [-1,1]\n",
    "    img = 2 * (img - 0.5)\n",
    "\n",
    "    return img, points, tour\n",
    "\n",
    "  def __getitem__(self, idx):\n",
    "    img, points, tour = self.rasterize(idx)\n",
    "    return img, points, tour"
   ]
  },
  {
   "cell_type": "code",
   "execution_count": 2,
   "metadata": {},
   "outputs": [
    {
     "name": "stdout",
     "output_type": "stream",
     "text": [
      "Loaded \"tsp20_train_concorde.txt\" with 10000 lines\n"
     ]
    }
   ],
   "source": [
    "images = TSPImageDataset(\n",
    "    data_file = \"tsp20_train_concorde.txt\", \n",
    "    img_size = 640, \n",
    "    point_radius = 5, \n",
    "    point_color = 250, \n",
    "    line_thickness = 2,\n",
    "    line_color = 200,\n",
    "    max_points = 100\n",
    ")"
   ]
  },
  {
   "cell_type": "code",
   "execution_count": 3,
   "metadata": {},
   "outputs": [
    {
     "name": "stdout",
     "output_type": "stream",
     "text": [
      "0.2688080043534402 0.8839870222507482 0.4694170769433764 0.008797022870632332 0.36742087490774855 0.9736985392701171 0.061393773910842775 0.719175415365688 0.4181945687519638 0.34172230992907626 0.008458840540780943 0.890008666734121 0.07519255851519413 0.8561799532976955 0.1608003902565781 0.46005221821956244 0.7802389877538104 0.3862395346327968 0.6317132213449097 0.8823800394704766 0.273218825420373 0.02992993664350918 0.27725934713598943 0.8370908417960303 0.7172817765961861 0.09951326747228306 0.5274826542914866 0.7521540332831163 0.1568601067377562 0.64359976620419 0.9205684049796191 0.3910548774714817 0.5179008832857545 0.24643527905483764 0.4297982754895089 0.3436641100706149 0.8289891453395634 0.090127161507366 0.4688489462387969 0.9030846015997237 output 1 3 20 10 14 9 16 19 13 2 11 17 18 5 8 15 4 6 7 12 1 \n"
     ]
    },
    {
     "data": {
      "image/png": "[encoded data removed]",
      "text/plain": [
       "<Figure size 640x480 with 2 Axes>"
      ]
     },
     "metadata": {},
     "output_type": "display_data"
    }
   ],
   "source": [
    "import matplotlib.pyplot as plt\n",
    "\n",
    "img, points, tour = images[4219]\n",
    "plt.imshow(img, cmap='gray')\n",
    "plt.colorbar()\n",
    "plt.show()    "
   ]
  },
  {
   "cell_type": "code",
   "execution_count": 1,
   "metadata": {},
   "outputs": [
    {
     "name": "stderr",
     "output_type": "stream",
     "text": [
      "/usr/local/lib/python3.8/dist-packages/tqdm/auto.py:21: TqdmWarning: IProgress not found. Please update jupyter and ipywidgets. See https://ipywidgets.readthedocs.io/en/stable/user_install.html\n",
      "  from .autonotebook import tqdm as notebook_tqdm\n"
     ]
    },
    {
     "name": "stdout",
     "output_type": "stream",
     "text": [
      "False\n"
     ]
    },
    {
     "name": "stderr",
     "output_type": "stream",
     "text": [
      "/usr/local/lib/python3.8/dist-packages/torch/cuda/__init__.py:83: UserWarning: CUDA initialization: Unexpected error from cudaGetDeviceCount(). Did you run some cuda functions before calling NumCudaDevices() that might have already set an error? Error 804: forward compatibility was attempted on non supported HW (Triggered internally at  ../c10/cuda/CUDAFunctions.cpp:109.)\n",
      "  return torch._C._cuda_getDeviceCount() > 0\n"
     ]
    }
   ],
   "source": [
    "import torch\n",
    "from pprint import pprint\n",
    "\n",
    "print(torch.cuda.is_available())"
   ]
  },
  {
   "cell_type": "code",
   "execution_count": 2,
   "metadata": {},
   "outputs": [
    {
     "name": "stdout",
     "output_type": "stream",
     "text": [
      "11.3\n"
     ]
    }
   ],
   "source": [
    "print(torch.version.cuda)"
   ]
  },
  {
   "cell_type": "code",
   "execution_count": 3,
   "metadata": {},
   "outputs": [
    {
     "name": "stdout",
     "output_type": "stream",
     "text": [
      "<module 'torch.cuda' from '/usr/local/lib/python3.8/dist-packages/torch/cuda/__init__.py'>\n"
     ]
    }
   ],
   "source": [
    "print(torch.cuda)"
   ]
  },
  {
   "cell_type": "code",
   "execution_count": null,
   "metadata": {},
   "outputs": [],
   "source": []
  }
 ],
 "metadata": {
  "kernelspec": {
   "display_name": "Python 3",
   "language": "python",
   "name": "python3"
  },
  "language_info": {
   "codemirror_mode": {
    "name": "ipython",
    "version": 3
   },
   "file_extension": ".py",
   "mimetype": "text/x-python",
   "name": "python",
   "nbconvert_exporter": "python",
   "pygments_lexer": "ipython3",
   "version": "3.8.10"
  }
 },
 "nbformat": 4,
 "nbformat_minor": 2
}
